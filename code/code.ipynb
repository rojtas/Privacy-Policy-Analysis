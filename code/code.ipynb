{
 "cells": [
  {
   "cell_type": "markdown",
   "metadata": {},
   "source": [
    "# Introduction and Importing Data\n",
    "Welcome to my code notebook for this project! Here, you'll find my code for the project as well as some documentation for the steps I take. If you haven't already, check my `README.md` for information about my project, my data, and my licensing.   \n",
    "  \n",
    "The first step to any data analyzation process is actually finding and importing the data. I'll begin by importing some Python packages and importing a CSV file with all the website from my data in them."
   ]
  },
  {
   "cell_type": "code",
   "execution_count": 1,
   "metadata": {},
   "outputs": [],
   "source": [
    "import glob\n",
    "import nltk\n",
    "import pandas as pd\n",
    "import numpy as np\n",
    "import matplotlib as plt\n",
    "import seaborn as sns"
   ]
  },
  {
   "cell_type": "code",
   "execution_count": 2,
   "metadata": {},
   "outputs": [],
   "source": [
    "data = pd.read_csv('../fulldata/sites.csv')"
   ]
  },
  {
   "cell_type": "code",
   "execution_count": 3,
   "metadata": {},
   "outputs": [
    {
     "data": {
      "text/html": [
       "<div>\n",
       "<style scoped>\n",
       "    .dataframe tbody tr th:only-of-type {\n",
       "        vertical-align: middle;\n",
       "    }\n",
       "\n",
       "    .dataframe tbody tr th {\n",
       "        vertical-align: top;\n",
       "    }\n",
       "\n",
       "    .dataframe thead th {\n",
       "        text-align: right;\n",
       "    }\n",
       "</style>\n",
       "<table border=\"1\" class=\"dataframe\">\n",
       "  <thead>\n",
       "    <tr style=\"text-align: right;\">\n",
       "      <th></th>\n",
       "      <th>filename</th>\n",
       "      <th>websites</th>\n",
       "      <th>titles</th>\n",
       "    </tr>\n",
       "  </thead>\n",
       "  <tbody>\n",
       "    <tr>\n",
       "      <td>0</td>\n",
       "      <td>theatlantic.txt</td>\n",
       "      <td>theatlantic.com</td>\n",
       "      <td>The Atlantic</td>\n",
       "    </tr>\n",
       "    <tr>\n",
       "      <td>1</td>\n",
       "      <td>imdb.txt</td>\n",
       "      <td>imdb.com</td>\n",
       "      <td>IMDB</td>\n",
       "    </tr>\n",
       "    <tr>\n",
       "      <td>2</td>\n",
       "      <td>nytimes.txt</td>\n",
       "      <td>nytimes.com</td>\n",
       "      <td>The New York Times</td>\n",
       "    </tr>\n",
       "    <tr>\n",
       "      <td>3</td>\n",
       "      <td>voxmedia.txt</td>\n",
       "      <td>voxmedia.com</td>\n",
       "      <td>Vox</td>\n",
       "    </tr>\n",
       "    <tr>\n",
       "      <td>4</td>\n",
       "      <td>nbcuniversal.txt</td>\n",
       "      <td>nbcuniversal.com</td>\n",
       "      <td>NBC Universal Media</td>\n",
       "    </tr>\n",
       "    <tr>\n",
       "      <td>...</td>\n",
       "      <td>...</td>\n",
       "      <td>...</td>\n",
       "      <td>...</td>\n",
       "    </tr>\n",
       "    <tr>\n",
       "      <td>108</td>\n",
       "      <td>dailynews.txt</td>\n",
       "      <td>dailynews.com</td>\n",
       "      <td>Los Angeles Daily News</td>\n",
       "    </tr>\n",
       "    <tr>\n",
       "      <td>109</td>\n",
       "      <td>lids.txt</td>\n",
       "      <td>lids.com</td>\n",
       "      <td>Lids</td>\n",
       "    </tr>\n",
       "    <tr>\n",
       "      <td>110</td>\n",
       "      <td>sports-reference.txt</td>\n",
       "      <td>sports-reference.com</td>\n",
       "      <td>Sports Reference</td>\n",
       "    </tr>\n",
       "    <tr>\n",
       "      <td>111</td>\n",
       "      <td>foxsports.txt</td>\n",
       "      <td>foxsports.com</td>\n",
       "      <td>Fox Sports Insider</td>\n",
       "    </tr>\n",
       "    <tr>\n",
       "      <td>112</td>\n",
       "      <td>latinpost.txt</td>\n",
       "      <td>latinpost.com</td>\n",
       "      <td>Latin Post</td>\n",
       "    </tr>\n",
       "  </tbody>\n",
       "</table>\n",
       "<p>113 rows × 3 columns</p>\n",
       "</div>"
      ],
      "text/plain": [
       "                 filename              websites                  titles\n",
       "0         theatlantic.txt       theatlantic.com            The Atlantic\n",
       "1                imdb.txt              imdb.com                    IMDB\n",
       "2             nytimes.txt           nytimes.com      The New York Times\n",
       "3            voxmedia.txt          voxmedia.com                     Vox\n",
       "4        nbcuniversal.txt      nbcuniversal.com     NBC Universal Media\n",
       "..                    ...                   ...                     ...\n",
       "108         dailynews.txt         dailynews.com  Los Angeles Daily News\n",
       "109              lids.txt              lids.com                    Lids\n",
       "110  sports-reference.txt  sports-reference.com        Sports Reference\n",
       "111         foxsports.txt         foxsports.com      Fox Sports Insider\n",
       "112         latinpost.txt         latinpost.com              Latin Post\n",
       "\n",
       "[113 rows x 3 columns]"
      ]
     },
     "execution_count": 3,
     "metadata": {},
     "output_type": "execute_result"
    }
   ],
   "source": [
    "data"
   ]
  },
  {
   "cell_type": "markdown",
   "metadata": {},
   "source": [
    "Our dataframe here is 113 rows x 3 columns, so there are a total of 113 websites in my dataset. These websites include news sites, social media sites, and business sites. \n",
    "\n",
    "  \n",
    "Next, I will import the content of the privacy policies from the text files that I converted to text from HTML. I was going to try to read in the HTML files with a Python package called BeautifulSoup, but it was giving me trouble. I make use of the glob package here to read in each of the contents of the files and match them up to their respective websites. "
   ]
  },
  {
   "cell_type": "code",
   "execution_count": 4,
   "metadata": {},
   "outputs": [
    {
     "data": {
      "text/html": [
       "<div>\n",
       "<style scoped>\n",
       "    .dataframe tbody tr th:only-of-type {\n",
       "        vertical-align: middle;\n",
       "    }\n",
       "\n",
       "    .dataframe tbody tr th {\n",
       "        vertical-align: top;\n",
       "    }\n",
       "\n",
       "    .dataframe thead th {\n",
       "        text-align: right;\n",
       "    }\n",
       "</style>\n",
       "<table border=\"1\" class=\"dataframe\">\n",
       "  <thead>\n",
       "    <tr style=\"text-align: right;\">\n",
       "      <th></th>\n",
       "      <th>filename</th>\n",
       "      <th>websites</th>\n",
       "      <th>titles</th>\n",
       "      <th>content</th>\n",
       "    </tr>\n",
       "  </thead>\n",
       "  <tbody>\n",
       "    <tr>\n",
       "      <td>0</td>\n",
       "      <td>theatlantic.txt</td>\n",
       "      <td>theatlantic.com</td>\n",
       "      <td>The Atlantic</td>\n",
       "      <td>*Privacy Policy *\\n\\n*Effective: January 1, 20...</td>\n",
       "    </tr>\n",
       "    <tr>\n",
       "      <td>1</td>\n",
       "      <td>imdb.txt</td>\n",
       "      <td>imdb.com</td>\n",
       "      <td>IMDB</td>\n",
       "      <td>IMDb Privacy Notice\\n\\n|||Last Updated, Decemb...</td>\n",
       "    </tr>\n",
       "    <tr>\n",
       "      <td>2</td>\n",
       "      <td>nytimes.txt</td>\n",
       "      <td>nytimes.com</td>\n",
       "      <td>The New York Times</td>\n",
       "      <td>*Privacy Policy *\\n\\nLast Updated on June 10, ...</td>\n",
       "    </tr>\n",
       "    <tr>\n",
       "      <td>3</td>\n",
       "      <td>voxmedia.txt</td>\n",
       "      <td>voxmedia.com</td>\n",
       "      <td>Vox</td>\n",
       "      <td>Vox Media Privacy Policy\\n\\n|||*Updated as of ...</td>\n",
       "    </tr>\n",
       "    <tr>\n",
       "      <td>4</td>\n",
       "      <td>nbcuniversal.txt</td>\n",
       "      <td>nbcuniversal.com</td>\n",
       "      <td>NBC Universal Media</td>\n",
       "      <td>Full Privacy Policy\\n\\nLast updated: 14 Januar...</td>\n",
       "    </tr>\n",
       "  </tbody>\n",
       "</table>\n",
       "</div>"
      ],
      "text/plain": [
       "           filename          websites               titles  \\\n",
       "0   theatlantic.txt   theatlantic.com         The Atlantic   \n",
       "1          imdb.txt          imdb.com                 IMDB   \n",
       "2       nytimes.txt       nytimes.com   The New York Times   \n",
       "3      voxmedia.txt      voxmedia.com                  Vox   \n",
       "4  nbcuniversal.txt  nbcuniversal.com  NBC Universal Media   \n",
       "\n",
       "                                             content  \n",
       "0  *Privacy Policy *\\n\\n*Effective: January 1, 20...  \n",
       "1  IMDb Privacy Notice\\n\\n|||Last Updated, Decemb...  \n",
       "2  *Privacy Policy *\\n\\nLast Updated on June 10, ...  \n",
       "3  Vox Media Privacy Policy\\n\\n|||*Updated as of ...  \n",
       "4  Full Privacy Policy\\n\\nLast updated: 14 Januar...  "
      ]
     },
     "execution_count": 4,
     "metadata": {},
     "output_type": "execute_result"
    }
   ],
   "source": [
    "filepath = '../fulldata/textpolicies/'\n",
    "def readtxt(fn):\n",
    "    f = open(glob.glob(filepath + fn)[0])\n",
    "    text = f.read()\n",
    "    f.close()\n",
    "    return text\n",
    "\n",
    "data['content'] = data['filename'].apply(readtxt)\n",
    "\n",
    "data.head()"
   ]
  },
  {
   "cell_type": "code",
   "execution_count": 5,
   "metadata": {},
   "outputs": [
    {
     "data": {
      "text/plain": [
       "113"
      ]
     },
     "execution_count": 5,
     "metadata": {},
     "output_type": "execute_result"
    }
   ],
   "source": [
    "len(data)"
   ]
  },
  {
   "cell_type": "markdown",
   "metadata": {},
   "source": [
    "# Data Cleaning\n",
    "As you can see from the dataframe above, there's a lot of non-alphanumeric symbols in the content column. There's asterisks for denoting bold, newline characters, and three vertical bars that denote headings. These aren't relevant to the analysis I'm going to perform, so I am going to drop these characters by splitting the strings by a character into an array of strings, joining them back together, and repeating until the asterisks, newlines, and vertical bars are gone. "
   ]
  },
  {
   "cell_type": "code",
   "execution_count": 6,
   "metadata": {},
   "outputs": [],
   "source": [
    "for i in range(len(data)):\n",
    "    data.content[i] = data.content[i].split('|||')\n",
    "    tmplist = data.content[i]\n",
    "    tmpstring = ' '.join(tmplist)\n",
    "    data.content[i] = tmpstring\n",
    "    \n",
    "    data.content[i] = data.content[i].split('*')\n",
    "    tmplist = data.content[i]\n",
    "    tmpstring = ' '.join(tmplist)\n",
    "    data.content[i] = tmpstring\n",
    "    \n",
    "    data.content[i] = data.content[i].split('\\n')\n",
    "    tmplist = data.content[i]\n",
    "    tmpstring = ' '.join(tmplist)\n",
    "    data.content[i] = tmpstring\n",
    "    \n",
    "    data.content[i] = data.content[i].split(':')\n",
    "    tmplist = data.content[i]\n",
    "    tmpstring = ' '.join(tmplist)\n",
    "    data.content[i] = tmpstring\n",
    "    \n",
    "    data.content[i] = data.content[i].split(' ')"
   ]
  },
  {
   "cell_type": "code",
   "execution_count": 7,
   "metadata": {
    "scrolled": false
   },
   "outputs": [
    {
     "data": {
      "text/html": [
       "<div>\n",
       "<style scoped>\n",
       "    .dataframe tbody tr th:only-of-type {\n",
       "        vertical-align: middle;\n",
       "    }\n",
       "\n",
       "    .dataframe tbody tr th {\n",
       "        vertical-align: top;\n",
       "    }\n",
       "\n",
       "    .dataframe thead th {\n",
       "        text-align: right;\n",
       "    }\n",
       "</style>\n",
       "<table border=\"1\" class=\"dataframe\">\n",
       "  <thead>\n",
       "    <tr style=\"text-align: right;\">\n",
       "      <th></th>\n",
       "      <th>filename</th>\n",
       "      <th>websites</th>\n",
       "      <th>titles</th>\n",
       "      <th>content</th>\n",
       "    </tr>\n",
       "  </thead>\n",
       "  <tbody>\n",
       "    <tr>\n",
       "      <td>0</td>\n",
       "      <td>theatlantic.txt</td>\n",
       "      <td>theatlantic.com</td>\n",
       "      <td>The Atlantic</td>\n",
       "      <td>[, Privacy, Policy, , , , , Effective, , Janua...</td>\n",
       "    </tr>\n",
       "    <tr>\n",
       "      <td>1</td>\n",
       "      <td>imdb.txt</td>\n",
       "      <td>imdb.com</td>\n",
       "      <td>IMDB</td>\n",
       "      <td>[IMDb, Privacy, Notice, , , Last, Updated,, De...</td>\n",
       "    </tr>\n",
       "    <tr>\n",
       "      <td>2</td>\n",
       "      <td>nytimes.txt</td>\n",
       "      <td>nytimes.com</td>\n",
       "      <td>The New York Times</td>\n",
       "      <td>[, Privacy, Policy, , , , Last, Updated, on, J...</td>\n",
       "    </tr>\n",
       "    <tr>\n",
       "      <td>3</td>\n",
       "      <td>voxmedia.txt</td>\n",
       "      <td>voxmedia.com</td>\n",
       "      <td>Vox</td>\n",
       "      <td>[Vox, Media, Privacy, Policy, , , , Updated, a...</td>\n",
       "    </tr>\n",
       "    <tr>\n",
       "      <td>4</td>\n",
       "      <td>nbcuniversal.txt</td>\n",
       "      <td>nbcuniversal.com</td>\n",
       "      <td>NBC Universal Media</td>\n",
       "      <td>[Full, Privacy, Policy, , Last, updated, , 14,...</td>\n",
       "    </tr>\n",
       "    <tr>\n",
       "      <td>...</td>\n",
       "      <td>...</td>\n",
       "      <td>...</td>\n",
       "      <td>...</td>\n",
       "      <td>...</td>\n",
       "    </tr>\n",
       "    <tr>\n",
       "      <td>108</td>\n",
       "      <td>dailynews.txt</td>\n",
       "      <td>dailynews.com</td>\n",
       "      <td>Los Angeles Daily News</td>\n",
       "      <td>[, PRIVACY, POLICY, , , , This, policy, descri...</td>\n",
       "    </tr>\n",
       "    <tr>\n",
       "      <td>109</td>\n",
       "      <td>lids.txt</td>\n",
       "      <td>lids.com</td>\n",
       "      <td>Lids</td>\n",
       "      <td>[Privacy, Policy, , , Last, updated, , August,...</td>\n",
       "    </tr>\n",
       "    <tr>\n",
       "      <td>110</td>\n",
       "      <td>sports-reference.txt</td>\n",
       "      <td>sports-reference.com</td>\n",
       "      <td>Sports Reference</td>\n",
       "      <td>[SPORTS, REFERENCE, LLC, -, Privacy, Statement...</td>\n",
       "    </tr>\n",
       "    <tr>\n",
       "      <td>111</td>\n",
       "      <td>foxsports.txt</td>\n",
       "      <td>foxsports.com</td>\n",
       "      <td>Fox Sports Insider</td>\n",
       "      <td>[Privacy, Policy, Effective, Date, , June, 11,...</td>\n",
       "    </tr>\n",
       "    <tr>\n",
       "      <td>112</td>\n",
       "      <td>latinpost.txt</td>\n",
       "      <td>latinpost.com</td>\n",
       "      <td>Latin Post</td>\n",
       "      <td>[Privacy, Policy, , Last, Modified, , March, 2...</td>\n",
       "    </tr>\n",
       "  </tbody>\n",
       "</table>\n",
       "<p>113 rows × 4 columns</p>\n",
       "</div>"
      ],
      "text/plain": [
       "                 filename              websites                  titles  \\\n",
       "0         theatlantic.txt       theatlantic.com            The Atlantic   \n",
       "1                imdb.txt              imdb.com                    IMDB   \n",
       "2             nytimes.txt           nytimes.com      The New York Times   \n",
       "3            voxmedia.txt          voxmedia.com                     Vox   \n",
       "4        nbcuniversal.txt      nbcuniversal.com     NBC Universal Media   \n",
       "..                    ...                   ...                     ...   \n",
       "108         dailynews.txt         dailynews.com  Los Angeles Daily News   \n",
       "109              lids.txt              lids.com                    Lids   \n",
       "110  sports-reference.txt  sports-reference.com        Sports Reference   \n",
       "111         foxsports.txt         foxsports.com      Fox Sports Insider   \n",
       "112         latinpost.txt         latinpost.com              Latin Post   \n",
       "\n",
       "                                               content  \n",
       "0    [, Privacy, Policy, , , , , Effective, , Janua...  \n",
       "1    [IMDb, Privacy, Notice, , , Last, Updated,, De...  \n",
       "2    [, Privacy, Policy, , , , Last, Updated, on, J...  \n",
       "3    [Vox, Media, Privacy, Policy, , , , Updated, a...  \n",
       "4    [Full, Privacy, Policy, , Last, updated, , 14,...  \n",
       "..                                                 ...  \n",
       "108  [, PRIVACY, POLICY, , , , This, policy, descri...  \n",
       "109  [Privacy, Policy, , , Last, updated, , August,...  \n",
       "110  [SPORTS, REFERENCE, LLC, -, Privacy, Statement...  \n",
       "111  [Privacy, Policy, Effective, Date, , June, 11,...  \n",
       "112  [Privacy, Policy, , Last, Modified, , March, 2...  \n",
       "\n",
       "[113 rows x 4 columns]"
      ]
     },
     "execution_count": 7,
     "metadata": {},
     "output_type": "execute_result"
    }
   ],
   "source": [
    "data"
   ]
  },
  {
   "cell_type": "markdown",
   "metadata": {},
   "source": [
    "All of those unneeded characters are out of the way, but now there are lots of empty strings/strings that are just spaces in the array of words. I'll drop those. I'm also dropping punctuation after I tokenize the words with NLTK's word_tokenize function. I'm also going to set everything to lowercase so it's easier to look at type-token ratio later on. This way, a capitalized word and a lowercase word won't be counted as two different words. See my comments in the following cells for details on what each portion does. "
   ]
  },
  {
   "cell_type": "code",
   "execution_count": 8,
   "metadata": {
    "scrolled": false
   },
   "outputs": [],
   "source": [
    "for i in range(len(data)): # dropping empty strings\n",
    "    ct = 0\n",
    "    while ct < (len(data.content[i])):\n",
    "        if data.content[i][ct] == '' or data.content[i][ct] == ' ':\n",
    "            del data.content[i][ct]\n",
    "        else:\n",
    "            ct += 1\n",
    "    tmplist = data.content[i]\n",
    "    tmpstring = ' '.join(tmplist)\n",
    "    data.content[i] = tmpstring # joining the array of strings back together into one string"
   ]
  },
  {
   "cell_type": "code",
   "execution_count": 9,
   "metadata": {},
   "outputs": [],
   "source": [
    "wordtokens = data.content.map(nltk.word_tokenize) # tokenizing the words in each of the entries in content cols"
   ]
  },
  {
   "cell_type": "code",
   "execution_count": 10,
   "metadata": {},
   "outputs": [],
   "source": [
    "data['tokens'] = wordtokens # creating a new column for the tokenized words"
   ]
  },
  {
   "cell_type": "code",
   "execution_count": 11,
   "metadata": {},
   "outputs": [],
   "source": [
    "def removepunc(s): # a function for removing commas, periods, etc, as they are unimportant\n",
    "    words = s\n",
    "    words = [word.lower() for word in words if word.isalnum()] # making word tokens lowercase too!\n",
    "    return words"
   ]
  },
  {
   "cell_type": "code",
   "execution_count": 12,
   "metadata": {},
   "outputs": [],
   "source": [
    "data['tokens'] = data['tokens'].apply(removepunc) # removing punctuation... "
   ]
  },
  {
   "cell_type": "code",
   "execution_count": 13,
   "metadata": {},
   "outputs": [
    {
     "data": {
      "text/html": [
       "<div>\n",
       "<style scoped>\n",
       "    .dataframe tbody tr th:only-of-type {\n",
       "        vertical-align: middle;\n",
       "    }\n",
       "\n",
       "    .dataframe tbody tr th {\n",
       "        vertical-align: top;\n",
       "    }\n",
       "\n",
       "    .dataframe thead th {\n",
       "        text-align: right;\n",
       "    }\n",
       "</style>\n",
       "<table border=\"1\" class=\"dataframe\">\n",
       "  <thead>\n",
       "    <tr style=\"text-align: right;\">\n",
       "      <th></th>\n",
       "      <th>filename</th>\n",
       "      <th>websites</th>\n",
       "      <th>titles</th>\n",
       "      <th>content</th>\n",
       "      <th>tokens</th>\n",
       "    </tr>\n",
       "  </thead>\n",
       "  <tbody>\n",
       "    <tr>\n",
       "      <td>0</td>\n",
       "      <td>theatlantic.txt</td>\n",
       "      <td>theatlantic.com</td>\n",
       "      <td>The Atlantic</td>\n",
       "      <td>Privacy Policy Effective January 1, 2015 At th...</td>\n",
       "      <td>[privacy, policy, effective, january, 1, 2015,...</td>\n",
       "    </tr>\n",
       "    <tr>\n",
       "      <td>1</td>\n",
       "      <td>imdb.txt</td>\n",
       "      <td>imdb.com</td>\n",
       "      <td>IMDB</td>\n",
       "      <td>IMDb Privacy Notice Last Updated, December 5, ...</td>\n",
       "      <td>[imdb, privacy, notice, last, updated, decembe...</td>\n",
       "    </tr>\n",
       "    <tr>\n",
       "      <td>2</td>\n",
       "      <td>nytimes.txt</td>\n",
       "      <td>nytimes.com</td>\n",
       "      <td>The New York Times</td>\n",
       "      <td>Privacy Policy Last Updated on June 10, 2015 T...</td>\n",
       "      <td>[privacy, policy, last, updated, on, june, 10,...</td>\n",
       "    </tr>\n",
       "    <tr>\n",
       "      <td>3</td>\n",
       "      <td>voxmedia.txt</td>\n",
       "      <td>voxmedia.com</td>\n",
       "      <td>Vox</td>\n",
       "      <td>Vox Media Privacy Policy Updated as of May 201...</td>\n",
       "      <td>[vox, media, privacy, policy, updated, as, of,...</td>\n",
       "    </tr>\n",
       "    <tr>\n",
       "      <td>4</td>\n",
       "      <td>nbcuniversal.txt</td>\n",
       "      <td>nbcuniversal.com</td>\n",
       "      <td>NBC Universal Media</td>\n",
       "      <td>Full Privacy Policy Last updated 14 January 20...</td>\n",
       "      <td>[full, privacy, policy, last, updated, 14, jan...</td>\n",
       "    </tr>\n",
       "    <tr>\n",
       "      <td>...</td>\n",
       "      <td>...</td>\n",
       "      <td>...</td>\n",
       "      <td>...</td>\n",
       "      <td>...</td>\n",
       "      <td>...</td>\n",
       "    </tr>\n",
       "    <tr>\n",
       "      <td>108</td>\n",
       "      <td>dailynews.txt</td>\n",
       "      <td>dailynews.com</td>\n",
       "      <td>Los Angeles Daily News</td>\n",
       "      <td>PRIVACY POLICY This policy describes the priva...</td>\n",
       "      <td>[privacy, policy, this, policy, describes, the...</td>\n",
       "    </tr>\n",
       "    <tr>\n",
       "      <td>109</td>\n",
       "      <td>lids.txt</td>\n",
       "      <td>lids.com</td>\n",
       "      <td>Lids</td>\n",
       "      <td>Privacy Policy Last updated August 26, 2014 Ou...</td>\n",
       "      <td>[privacy, policy, last, updated, august, 26, 2...</td>\n",
       "    </tr>\n",
       "    <tr>\n",
       "      <td>110</td>\n",
       "      <td>sports-reference.txt</td>\n",
       "      <td>sports-reference.com</td>\n",
       "      <td>Sports Reference</td>\n",
       "      <td>SPORTS REFERENCE LLC - Privacy Statement A com...</td>\n",
       "      <td>[sports, reference, llc, privacy, statement, a...</td>\n",
       "    </tr>\n",
       "    <tr>\n",
       "      <td>111</td>\n",
       "      <td>foxsports.txt</td>\n",
       "      <td>foxsports.com</td>\n",
       "      <td>Fox Sports Insider</td>\n",
       "      <td>Privacy Policy Effective Date June 11, 2015 1....</td>\n",
       "      <td>[privacy, policy, effective, date, june, 11, 2...</td>\n",
       "    </tr>\n",
       "    <tr>\n",
       "      <td>112</td>\n",
       "      <td>latinpost.txt</td>\n",
       "      <td>latinpost.com</td>\n",
       "      <td>Latin Post</td>\n",
       "      <td>Privacy Policy Last Modified March 25, 2013 Th...</td>\n",
       "      <td>[privacy, policy, last, modified, march, 25, 2...</td>\n",
       "    </tr>\n",
       "  </tbody>\n",
       "</table>\n",
       "<p>113 rows × 5 columns</p>\n",
       "</div>"
      ],
      "text/plain": [
       "                 filename              websites                  titles  \\\n",
       "0         theatlantic.txt       theatlantic.com            The Atlantic   \n",
       "1                imdb.txt              imdb.com                    IMDB   \n",
       "2             nytimes.txt           nytimes.com      The New York Times   \n",
       "3            voxmedia.txt          voxmedia.com                     Vox   \n",
       "4        nbcuniversal.txt      nbcuniversal.com     NBC Universal Media   \n",
       "..                    ...                   ...                     ...   \n",
       "108         dailynews.txt         dailynews.com  Los Angeles Daily News   \n",
       "109              lids.txt              lids.com                    Lids   \n",
       "110  sports-reference.txt  sports-reference.com        Sports Reference   \n",
       "111         foxsports.txt         foxsports.com      Fox Sports Insider   \n",
       "112         latinpost.txt         latinpost.com              Latin Post   \n",
       "\n",
       "                                               content  \\\n",
       "0    Privacy Policy Effective January 1, 2015 At th...   \n",
       "1    IMDb Privacy Notice Last Updated, December 5, ...   \n",
       "2    Privacy Policy Last Updated on June 10, 2015 T...   \n",
       "3    Vox Media Privacy Policy Updated as of May 201...   \n",
       "4    Full Privacy Policy Last updated 14 January 20...   \n",
       "..                                                 ...   \n",
       "108  PRIVACY POLICY This policy describes the priva...   \n",
       "109  Privacy Policy Last updated August 26, 2014 Ou...   \n",
       "110  SPORTS REFERENCE LLC - Privacy Statement A com...   \n",
       "111  Privacy Policy Effective Date June 11, 2015 1....   \n",
       "112  Privacy Policy Last Modified March 25, 2013 Th...   \n",
       "\n",
       "                                                tokens  \n",
       "0    [privacy, policy, effective, january, 1, 2015,...  \n",
       "1    [imdb, privacy, notice, last, updated, decembe...  \n",
       "2    [privacy, policy, last, updated, on, june, 10,...  \n",
       "3    [vox, media, privacy, policy, updated, as, of,...  \n",
       "4    [full, privacy, policy, last, updated, 14, jan...  \n",
       "..                                                 ...  \n",
       "108  [privacy, policy, this, policy, describes, the...  \n",
       "109  [privacy, policy, last, updated, august, 26, 2...  \n",
       "110  [sports, reference, llc, privacy, statement, a...  \n",
       "111  [privacy, policy, effective, date, june, 11, 2...  \n",
       "112  [privacy, policy, last, modified, march, 25, 2...  \n",
       "\n",
       "[113 rows x 5 columns]"
      ]
     },
     "execution_count": 13,
     "metadata": {},
     "output_type": "execute_result"
    }
   ],
   "source": [
    "data # done!"
   ]
  },
  {
   "cell_type": "markdown",
   "metadata": {},
   "source": [
    "# Analysis\n",
    "## Length in Words\n",
    "Our original data is clean, so let's get into some analysis. There are several ways to analyze what privacy policy is a good one. Length in amount of words, average word length, and type-token ratio (word uniqueness) are the three ways of analysis that I'll be looking at. I'll start by just looking at the total length in words. "
   ]
  },
  {
   "cell_type": "code",
   "execution_count": 14,
   "metadata": {},
   "outputs": [],
   "source": [
    "data['length'] = None\n",
    "for i in range(len(data)):\n",
    "    data['length'][i] = len(data['tokens'][i])"
   ]
  },
  {
   "cell_type": "code",
   "execution_count": 15,
   "metadata": {},
   "outputs": [
    {
     "data": {
      "text/html": [
       "<div>\n",
       "<style scoped>\n",
       "    .dataframe tbody tr th:only-of-type {\n",
       "        vertical-align: middle;\n",
       "    }\n",
       "\n",
       "    .dataframe tbody tr th {\n",
       "        vertical-align: top;\n",
       "    }\n",
       "\n",
       "    .dataframe thead th {\n",
       "        text-align: right;\n",
       "    }\n",
       "</style>\n",
       "<table border=\"1\" class=\"dataframe\">\n",
       "  <thead>\n",
       "    <tr style=\"text-align: right;\">\n",
       "      <th></th>\n",
       "      <th>filename</th>\n",
       "      <th>websites</th>\n",
       "      <th>titles</th>\n",
       "      <th>content</th>\n",
       "      <th>tokens</th>\n",
       "      <th>length</th>\n",
       "    </tr>\n",
       "  </thead>\n",
       "  <tbody>\n",
       "    <tr>\n",
       "      <td>0</td>\n",
       "      <td>theatlantic.txt</td>\n",
       "      <td>theatlantic.com</td>\n",
       "      <td>The Atlantic</td>\n",
       "      <td>Privacy Policy Effective January 1, 2015 At th...</td>\n",
       "      <td>[privacy, policy, effective, january, 1, 2015,...</td>\n",
       "      <td>3296</td>\n",
       "    </tr>\n",
       "    <tr>\n",
       "      <td>1</td>\n",
       "      <td>imdb.txt</td>\n",
       "      <td>imdb.com</td>\n",
       "      <td>IMDB</td>\n",
       "      <td>IMDb Privacy Notice Last Updated, December 5, ...</td>\n",
       "      <td>[imdb, privacy, notice, last, updated, decembe...</td>\n",
       "      <td>1987</td>\n",
       "    </tr>\n",
       "    <tr>\n",
       "      <td>2</td>\n",
       "      <td>nytimes.txt</td>\n",
       "      <td>nytimes.com</td>\n",
       "      <td>The New York Times</td>\n",
       "      <td>Privacy Policy Last Updated on June 10, 2015 T...</td>\n",
       "      <td>[privacy, policy, last, updated, on, june, 10,...</td>\n",
       "      <td>3691</td>\n",
       "    </tr>\n",
       "    <tr>\n",
       "      <td>3</td>\n",
       "      <td>voxmedia.txt</td>\n",
       "      <td>voxmedia.com</td>\n",
       "      <td>Vox</td>\n",
       "      <td>Vox Media Privacy Policy Updated as of May 201...</td>\n",
       "      <td>[vox, media, privacy, policy, updated, as, of,...</td>\n",
       "      <td>2412</td>\n",
       "    </tr>\n",
       "    <tr>\n",
       "      <td>4</td>\n",
       "      <td>nbcuniversal.txt</td>\n",
       "      <td>nbcuniversal.com</td>\n",
       "      <td>NBC Universal Media</td>\n",
       "      <td>Full Privacy Policy Last updated 14 January 20...</td>\n",
       "      <td>[full, privacy, policy, last, updated, 14, jan...</td>\n",
       "      <td>4128</td>\n",
       "    </tr>\n",
       "    <tr>\n",
       "      <td>...</td>\n",
       "      <td>...</td>\n",
       "      <td>...</td>\n",
       "      <td>...</td>\n",
       "      <td>...</td>\n",
       "      <td>...</td>\n",
       "      <td>...</td>\n",
       "    </tr>\n",
       "    <tr>\n",
       "      <td>108</td>\n",
       "      <td>dailynews.txt</td>\n",
       "      <td>dailynews.com</td>\n",
       "      <td>Los Angeles Daily News</td>\n",
       "      <td>PRIVACY POLICY This policy describes the priva...</td>\n",
       "      <td>[privacy, policy, this, policy, describes, the...</td>\n",
       "      <td>3306</td>\n",
       "    </tr>\n",
       "    <tr>\n",
       "      <td>109</td>\n",
       "      <td>lids.txt</td>\n",
       "      <td>lids.com</td>\n",
       "      <td>Lids</td>\n",
       "      <td>Privacy Policy Last updated August 26, 2014 Ou...</td>\n",
       "      <td>[privacy, policy, last, updated, august, 26, 2...</td>\n",
       "      <td>2329</td>\n",
       "    </tr>\n",
       "    <tr>\n",
       "      <td>110</td>\n",
       "      <td>sports-reference.txt</td>\n",
       "      <td>sports-reference.com</td>\n",
       "      <td>Sports Reference</td>\n",
       "      <td>SPORTS REFERENCE LLC - Privacy Statement A com...</td>\n",
       "      <td>[sports, reference, llc, privacy, statement, a...</td>\n",
       "      <td>1673</td>\n",
       "    </tr>\n",
       "    <tr>\n",
       "      <td>111</td>\n",
       "      <td>foxsports.txt</td>\n",
       "      <td>foxsports.com</td>\n",
       "      <td>Fox Sports Insider</td>\n",
       "      <td>Privacy Policy Effective Date June 11, 2015 1....</td>\n",
       "      <td>[privacy, policy, effective, date, june, 11, 2...</td>\n",
       "      <td>3063</td>\n",
       "    </tr>\n",
       "    <tr>\n",
       "      <td>112</td>\n",
       "      <td>latinpost.txt</td>\n",
       "      <td>latinpost.com</td>\n",
       "      <td>Latin Post</td>\n",
       "      <td>Privacy Policy Last Modified March 25, 2013 Th...</td>\n",
       "      <td>[privacy, policy, last, modified, march, 25, 2...</td>\n",
       "      <td>7147</td>\n",
       "    </tr>\n",
       "  </tbody>\n",
       "</table>\n",
       "<p>113 rows × 6 columns</p>\n",
       "</div>"
      ],
      "text/plain": [
       "                 filename              websites                  titles  \\\n",
       "0         theatlantic.txt       theatlantic.com            The Atlantic   \n",
       "1                imdb.txt              imdb.com                    IMDB   \n",
       "2             nytimes.txt           nytimes.com      The New York Times   \n",
       "3            voxmedia.txt          voxmedia.com                     Vox   \n",
       "4        nbcuniversal.txt      nbcuniversal.com     NBC Universal Media   \n",
       "..                    ...                   ...                     ...   \n",
       "108         dailynews.txt         dailynews.com  Los Angeles Daily News   \n",
       "109              lids.txt              lids.com                    Lids   \n",
       "110  sports-reference.txt  sports-reference.com        Sports Reference   \n",
       "111         foxsports.txt         foxsports.com      Fox Sports Insider   \n",
       "112         latinpost.txt         latinpost.com              Latin Post   \n",
       "\n",
       "                                               content  \\\n",
       "0    Privacy Policy Effective January 1, 2015 At th...   \n",
       "1    IMDb Privacy Notice Last Updated, December 5, ...   \n",
       "2    Privacy Policy Last Updated on June 10, 2015 T...   \n",
       "3    Vox Media Privacy Policy Updated as of May 201...   \n",
       "4    Full Privacy Policy Last updated 14 January 20...   \n",
       "..                                                 ...   \n",
       "108  PRIVACY POLICY This policy describes the priva...   \n",
       "109  Privacy Policy Last updated August 26, 2014 Ou...   \n",
       "110  SPORTS REFERENCE LLC - Privacy Statement A com...   \n",
       "111  Privacy Policy Effective Date June 11, 2015 1....   \n",
       "112  Privacy Policy Last Modified March 25, 2013 Th...   \n",
       "\n",
       "                                                tokens length  \n",
       "0    [privacy, policy, effective, january, 1, 2015,...   3296  \n",
       "1    [imdb, privacy, notice, last, updated, decembe...   1987  \n",
       "2    [privacy, policy, last, updated, on, june, 10,...   3691  \n",
       "3    [vox, media, privacy, policy, updated, as, of,...   2412  \n",
       "4    [full, privacy, policy, last, updated, 14, jan...   4128  \n",
       "..                                                 ...    ...  \n",
       "108  [privacy, policy, this, policy, describes, the...   3306  \n",
       "109  [privacy, policy, last, updated, august, 26, 2...   2329  \n",
       "110  [sports, reference, llc, privacy, statement, a...   1673  \n",
       "111  [privacy, policy, effective, date, june, 11, 2...   3063  \n",
       "112  [privacy, policy, last, modified, march, 25, 2...   7147  \n",
       "\n",
       "[113 rows x 6 columns]"
      ]
     },
     "execution_count": 15,
     "metadata": {},
     "output_type": "execute_result"
    }
   ],
   "source": [
    "data"
   ]
  },
  {
   "cell_type": "markdown",
   "metadata": {},
   "source": [
    "Now, I'm going to check the shortest and longest policies by word. "
   ]
  },
  {
   "cell_type": "code",
   "execution_count": 16,
   "metadata": {},
   "outputs": [
    {
     "data": {
      "text/plain": [
       "7544"
      ]
     },
     "execution_count": 16,
     "metadata": {},
     "output_type": "execute_result"
    }
   ],
   "source": [
    "data['length'].max()"
   ]
  },
  {
   "cell_type": "code",
   "execution_count": 17,
   "metadata": {},
   "outputs": [
    {
     "data": {
      "text/plain": [
       "81"
      ]
     },
     "execution_count": 17,
     "metadata": {},
     "output_type": "execute_result"
    }
   ],
   "source": [
    "data['length'].min()"
   ]
  },
  {
   "cell_type": "markdown",
   "metadata": {},
   "source": [
    "As we can see here, there's a pretty large range as far as amount of words goes. For the sake of visualization, I'm going to make another column that shows the range of words. These ranges will be in 500-word intervals for counts less than 5000, and 1000-word intervals for word counts more than 5000. "
   ]
  },
  {
   "cell_type": "code",
   "execution_count": 18,
   "metadata": {},
   "outputs": [],
   "source": [
    "data['lencat'] = None\n",
    "for i in range(len(data)):\n",
    "    if len(data['tokens'][i]) < 500:\n",
    "        data['lencat'][i] = '0-499'\n",
    "    elif len(data['tokens'][i]) >= 500 and len(data['tokens'][i]) < 1000:\n",
    "        data['lencat'][i] = '500-999'\n",
    "    elif len(data['tokens'][i]) >= 1000 and len(data['tokens'][i]) < 1500:\n",
    "        data['lencat'][i] = '1000-1499'\n",
    "    elif len(data['tokens'][i]) >= 1500 and len(data['tokens'][i]) < 2000:\n",
    "        data['lencat'][i] = '1500-1999'\n",
    "    elif len(data['tokens'][i]) >= 2000 and len(data['tokens'][i]) < 2500:\n",
    "        data['lencat'][i] = '2000-2499'\n",
    "    elif len(data['tokens'][i]) >= 2500 and len(data['tokens'][i]) < 3000:\n",
    "        data['lencat'][i] = '2500-2999'\n",
    "    elif len(data['tokens'][i]) >= 3000 and len(data['tokens'][i]) < 3500:\n",
    "        data['lencat'][i] = '3000-3499'\n",
    "    elif len(data['tokens'][i]) >= 3500 and len(data['tokens'][i]) < 4000:\n",
    "        data['lencat'][i] = '3500-3999'\n",
    "    elif len(data['tokens'][i]) >= 4000 and len(data['tokens'][i]) < 4500:\n",
    "        data['lencat'][i] = '4000-4499'\n",
    "    elif len(data['tokens'][i]) >= 4500 and len(data['tokens'][i]) < 5000:\n",
    "        data['lencat'][i] = '4500-4999'\n",
    "    elif len(data['tokens'][i]) >= 5000 and len(data['tokens'][i]) < 6000:\n",
    "        data['lencat'][i] = '5000-5999'\n",
    "    elif len(data['tokens'][i]) >= 6000 and len(data['tokens'][i]) < 7000:\n",
    "        data['lencat'][i] = '6000-6999'\n",
    "    elif len(data['tokens'][i]) >= 7000 and len(data['tokens'][i]) < 8000:\n",
    "        data['lencat'][i] = '7000-7999'"
   ]
  },
  {
   "cell_type": "code",
   "execution_count": 19,
   "metadata": {},
   "outputs": [
    {
     "data": {
      "text/html": [
       "<div>\n",
       "<style scoped>\n",
       "    .dataframe tbody tr th:only-of-type {\n",
       "        vertical-align: middle;\n",
       "    }\n",
       "\n",
       "    .dataframe tbody tr th {\n",
       "        vertical-align: top;\n",
       "    }\n",
       "\n",
       "    .dataframe thead th {\n",
       "        text-align: right;\n",
       "    }\n",
       "</style>\n",
       "<table border=\"1\" class=\"dataframe\">\n",
       "  <thead>\n",
       "    <tr style=\"text-align: right;\">\n",
       "      <th></th>\n",
       "      <th>filename</th>\n",
       "      <th>websites</th>\n",
       "      <th>titles</th>\n",
       "      <th>content</th>\n",
       "      <th>tokens</th>\n",
       "      <th>length</th>\n",
       "      <th>lencat</th>\n",
       "    </tr>\n",
       "  </thead>\n",
       "  <tbody>\n",
       "    <tr>\n",
       "      <td>0</td>\n",
       "      <td>theatlantic.txt</td>\n",
       "      <td>theatlantic.com</td>\n",
       "      <td>The Atlantic</td>\n",
       "      <td>Privacy Policy Effective January 1, 2015 At th...</td>\n",
       "      <td>[privacy, policy, effective, january, 1, 2015,...</td>\n",
       "      <td>3296</td>\n",
       "      <td>3000-3499</td>\n",
       "    </tr>\n",
       "    <tr>\n",
       "      <td>1</td>\n",
       "      <td>imdb.txt</td>\n",
       "      <td>imdb.com</td>\n",
       "      <td>IMDB</td>\n",
       "      <td>IMDb Privacy Notice Last Updated, December 5, ...</td>\n",
       "      <td>[imdb, privacy, notice, last, updated, decembe...</td>\n",
       "      <td>1987</td>\n",
       "      <td>1500-1999</td>\n",
       "    </tr>\n",
       "    <tr>\n",
       "      <td>2</td>\n",
       "      <td>nytimes.txt</td>\n",
       "      <td>nytimes.com</td>\n",
       "      <td>The New York Times</td>\n",
       "      <td>Privacy Policy Last Updated on June 10, 2015 T...</td>\n",
       "      <td>[privacy, policy, last, updated, on, june, 10,...</td>\n",
       "      <td>3691</td>\n",
       "      <td>3500-3999</td>\n",
       "    </tr>\n",
       "    <tr>\n",
       "      <td>3</td>\n",
       "      <td>voxmedia.txt</td>\n",
       "      <td>voxmedia.com</td>\n",
       "      <td>Vox</td>\n",
       "      <td>Vox Media Privacy Policy Updated as of May 201...</td>\n",
       "      <td>[vox, media, privacy, policy, updated, as, of,...</td>\n",
       "      <td>2412</td>\n",
       "      <td>2000-2499</td>\n",
       "    </tr>\n",
       "    <tr>\n",
       "      <td>4</td>\n",
       "      <td>nbcuniversal.txt</td>\n",
       "      <td>nbcuniversal.com</td>\n",
       "      <td>NBC Universal Media</td>\n",
       "      <td>Full Privacy Policy Last updated 14 January 20...</td>\n",
       "      <td>[full, privacy, policy, last, updated, 14, jan...</td>\n",
       "      <td>4128</td>\n",
       "      <td>4000-4499</td>\n",
       "    </tr>\n",
       "    <tr>\n",
       "      <td>...</td>\n",
       "      <td>...</td>\n",
       "      <td>...</td>\n",
       "      <td>...</td>\n",
       "      <td>...</td>\n",
       "      <td>...</td>\n",
       "      <td>...</td>\n",
       "      <td>...</td>\n",
       "    </tr>\n",
       "    <tr>\n",
       "      <td>108</td>\n",
       "      <td>dailynews.txt</td>\n",
       "      <td>dailynews.com</td>\n",
       "      <td>Los Angeles Daily News</td>\n",
       "      <td>PRIVACY POLICY This policy describes the priva...</td>\n",
       "      <td>[privacy, policy, this, policy, describes, the...</td>\n",
       "      <td>3306</td>\n",
       "      <td>3000-3499</td>\n",
       "    </tr>\n",
       "    <tr>\n",
       "      <td>109</td>\n",
       "      <td>lids.txt</td>\n",
       "      <td>lids.com</td>\n",
       "      <td>Lids</td>\n",
       "      <td>Privacy Policy Last updated August 26, 2014 Ou...</td>\n",
       "      <td>[privacy, policy, last, updated, august, 26, 2...</td>\n",
       "      <td>2329</td>\n",
       "      <td>2000-2499</td>\n",
       "    </tr>\n",
       "    <tr>\n",
       "      <td>110</td>\n",
       "      <td>sports-reference.txt</td>\n",
       "      <td>sports-reference.com</td>\n",
       "      <td>Sports Reference</td>\n",
       "      <td>SPORTS REFERENCE LLC - Privacy Statement A com...</td>\n",
       "      <td>[sports, reference, llc, privacy, statement, a...</td>\n",
       "      <td>1673</td>\n",
       "      <td>1500-1999</td>\n",
       "    </tr>\n",
       "    <tr>\n",
       "      <td>111</td>\n",
       "      <td>foxsports.txt</td>\n",
       "      <td>foxsports.com</td>\n",
       "      <td>Fox Sports Insider</td>\n",
       "      <td>Privacy Policy Effective Date June 11, 2015 1....</td>\n",
       "      <td>[privacy, policy, effective, date, june, 11, 2...</td>\n",
       "      <td>3063</td>\n",
       "      <td>3000-3499</td>\n",
       "    </tr>\n",
       "    <tr>\n",
       "      <td>112</td>\n",
       "      <td>latinpost.txt</td>\n",
       "      <td>latinpost.com</td>\n",
       "      <td>Latin Post</td>\n",
       "      <td>Privacy Policy Last Modified March 25, 2013 Th...</td>\n",
       "      <td>[privacy, policy, last, modified, march, 25, 2...</td>\n",
       "      <td>7147</td>\n",
       "      <td>7000-7999</td>\n",
       "    </tr>\n",
       "  </tbody>\n",
       "</table>\n",
       "<p>113 rows × 7 columns</p>\n",
       "</div>"
      ],
      "text/plain": [
       "                 filename              websites                  titles  \\\n",
       "0         theatlantic.txt       theatlantic.com            The Atlantic   \n",
       "1                imdb.txt              imdb.com                    IMDB   \n",
       "2             nytimes.txt           nytimes.com      The New York Times   \n",
       "3            voxmedia.txt          voxmedia.com                     Vox   \n",
       "4        nbcuniversal.txt      nbcuniversal.com     NBC Universal Media   \n",
       "..                    ...                   ...                     ...   \n",
       "108         dailynews.txt         dailynews.com  Los Angeles Daily News   \n",
       "109              lids.txt              lids.com                    Lids   \n",
       "110  sports-reference.txt  sports-reference.com        Sports Reference   \n",
       "111         foxsports.txt         foxsports.com      Fox Sports Insider   \n",
       "112         latinpost.txt         latinpost.com              Latin Post   \n",
       "\n",
       "                                               content  \\\n",
       "0    Privacy Policy Effective January 1, 2015 At th...   \n",
       "1    IMDb Privacy Notice Last Updated, December 5, ...   \n",
       "2    Privacy Policy Last Updated on June 10, 2015 T...   \n",
       "3    Vox Media Privacy Policy Updated as of May 201...   \n",
       "4    Full Privacy Policy Last updated 14 January 20...   \n",
       "..                                                 ...   \n",
       "108  PRIVACY POLICY This policy describes the priva...   \n",
       "109  Privacy Policy Last updated August 26, 2014 Ou...   \n",
       "110  SPORTS REFERENCE LLC - Privacy Statement A com...   \n",
       "111  Privacy Policy Effective Date June 11, 2015 1....   \n",
       "112  Privacy Policy Last Modified March 25, 2013 Th...   \n",
       "\n",
       "                                                tokens length     lencat  \n",
       "0    [privacy, policy, effective, january, 1, 2015,...   3296  3000-3499  \n",
       "1    [imdb, privacy, notice, last, updated, decembe...   1987  1500-1999  \n",
       "2    [privacy, policy, last, updated, on, june, 10,...   3691  3500-3999  \n",
       "3    [vox, media, privacy, policy, updated, as, of,...   2412  2000-2499  \n",
       "4    [full, privacy, policy, last, updated, 14, jan...   4128  4000-4499  \n",
       "..                                                 ...    ...        ...  \n",
       "108  [privacy, policy, this, policy, describes, the...   3306  3000-3499  \n",
       "109  [privacy, policy, last, updated, august, 26, 2...   2329  2000-2499  \n",
       "110  [sports, reference, llc, privacy, statement, a...   1673  1500-1999  \n",
       "111  [privacy, policy, effective, date, june, 11, 2...   3063  3000-3499  \n",
       "112  [privacy, policy, last, modified, march, 25, 2...   7147  7000-7999  \n",
       "\n",
       "[113 rows x 7 columns]"
      ]
     },
     "execution_count": 19,
     "metadata": {},
     "output_type": "execute_result"
    }
   ],
   "source": [
    "data"
   ]
  },
  {
   "cell_type": "markdown",
   "metadata": {},
   "source": [
    "Let's take a look at these categories to see what ranges are the most common. "
   ]
  },
  {
   "cell_type": "code",
   "execution_count": 20,
   "metadata": {},
   "outputs": [
    {
     "data": {
      "text/plain": [
       "0-499        15\n",
       "3000-3499    15\n",
       "1000-1499    15\n",
       "2500-2999    14\n",
       "2000-2499    13\n",
       "1500-1999    11\n",
       "500-999      11\n",
       "3500-3999     6\n",
       "4000-4499     4\n",
       "4500-4999     3\n",
       "5000-5999     3\n",
       "7000-7999     2\n",
       "6000-6999     1\n",
       "Name: lencat, dtype: int64"
      ]
     },
     "execution_count": 20,
     "metadata": {},
     "output_type": "execute_result"
    }
   ],
   "source": [
    "data['lencat'].value_counts()"
   ]
  },
  {
   "cell_type": "code",
   "execution_count": 21,
   "metadata": {},
   "outputs": [],
   "source": [
    "lencounts = data['lencat'].value_counts()"
   ]
  },
  {
   "cell_type": "code",
   "execution_count": 22,
   "metadata": {},
   "outputs": [
    {
     "data": {
      "text/plain": [
       "<matplotlib.axes._subplots.AxesSubplot at 0x274dd2d29c8>"
      ]
     },
     "execution_count": 22,
     "metadata": {},
     "output_type": "execute_result"
    },
    {
     "data": {
      "image/png": "[encoded data removed]",
      "text/plain": [
       "<Figure size 504x360 with 1 Axes>"
      ]
     },
     "metadata": {
      "needs_background": "light"
     },
     "output_type": "display_data"
    }
   ],
   "source": [
    "lencounts.plot(kind='bar', figsize=(7,5))"
   ]
  },
  {
   "cell_type": "markdown",
   "metadata": {},
   "source": [
    "The most common lengths for privacy policies seem to be 3000-3499, 1000-1499, and 0-499 words. According to [wordcounter.io](https://wordcounter.io/faq/how-many-pages-is-1500-words/), 3000-3499 words is like a 12-14 page paper, double spaced. 1000-1499 words is 4-6 pages, double spaced. 500 words is 2 pages, double spaced. It is promising to see quite a few policies below 1000 words. A shorter privacy policy means that people are probably more inclined to read it.  \n",
    "  \n",
    "However, there are a couple policies that are worryingly large. There are two policies that are from 7000-7999 words long, which is approximately 30 pages, double spaced. This is ten pages longer than my limit for my research paper during my senior year of high school, and to expect someone to be able to read these policies is ridiculous. Let's check out which policies are over 7000 words.  "
   ]
  },
  {
   "cell_type": "code",
   "execution_count": 23,
   "metadata": {},
   "outputs": [
    {
     "data": {
      "text/plain": [
       "29     Barnes and Noble\n",
       "112          Latin Post\n",
       "Name: titles, dtype: object"
      ]
     },
     "execution_count": 23,
     "metadata": {},
     "output_type": "execute_result"
    }
   ],
   "source": [
    "data['titles'][pd.Index(data['lencat']).get_loc('7000-7999')]"
   ]
  },
  {
   "cell_type": "markdown",
   "metadata": {},
   "source": [
    "This is interesting. Barnes and Noble's policy being long makes a good bit of sense, since there's probably some form of data collection for online orders. I don't know much about Latin Post, though. While it makes sense that B&N's policy is long, that doesn't mean it should be, especially for a website that handles transactions. It can be a complicated process, sure, but it should also be a transparent process that doesn't take half an hour to understand the extent of.  \n",
    "  \n",
    "What about the shortest policy with 81 words?"
   ]
  },
  {
   "cell_type": "code",
   "execution_count": 24,
   "metadata": {},
   "outputs": [
    {
     "data": {
      "text/plain": [
       "'Tanger Outlets'"
      ]
     },
     "execution_count": 24,
     "metadata": {},
     "output_type": "execute_result"
    }
   ],
   "source": [
    "data['titles'][pd.Index(data['length']).get_loc(81)]"
   ]
  },
  {
   "cell_type": "code",
   "execution_count": 25,
   "metadata": {},
   "outputs": [
    {
     "data": {
      "text/plain": [
       "'Privacy Policy TangerOutlets is committed to keeping your personal information confidential. Any and all personal identifiable information collected from our customers is used by Tanger Outlets only, and is not sold, shared or distributed to any third party. If at any time you want your email information removed from our database, simply utilize the unsubscribe link provided in your email. Any other data updates or removal requests can be sent to TangerOutlets, Attn Marketing Department, PO Box 10889, Greensboro, NC 27408.'"
      ]
     },
     "execution_count": 25,
     "metadata": {},
     "output_type": "execute_result"
    }
   ],
   "source": [
    "data['content'][pd.Index(data['length']).get_loc(81)]"
   ]
  },
  {
   "cell_type": "markdown",
   "metadata": {},
   "source": [
    "This is a pretty solid and easy-to-read policy. It gives the reader a way to opt out of email information being collected, and it specifies that the data Tanger Outlets collects from its customers is not sold or redistributed in any way. However, short privacy policies like this one may not be sufficient, as it doesn't describe what is defined as \"personal identifiable information\" (or PII). Lengthier policies are more likely to describe what constitutes this information. They're also more likely to elaborate on what the website uses this PII for. \n",
    "  \n",
    "  \n",
    "While I did anticipate that a shorter policy in terms of word count would be easy to read, that doesn't necessarily mean it's a good policy. A human readable policy should be on the lower end of word count, yes, but too short of a word count can mean that important information and definitions regarding PII could potentially be omitted. This has the potential to leave the reader as clueless for a tiny policy as they would be for a huge, novel-length policy. In short, a lower word count tends to be better, but a website must be careful to not make the policy too short. This way, readers won't be overwhelmed by the amount of information, but they'll still be informed. "
   ]
  },
  {
   "cell_type": "markdown",
   "metadata": {},
   "source": [
    "## Average Word Length\n",
    "The next thing we'll work with is the average word length. In general, shorter words tend to be more common and easy to use, while longer words tend to be more difficult to use. This doesn't go for every single word in the English language, so this method of analysis by itself should be taken with a grain of salt. However, when combined with other metrics, it can be telling. Let's get started by creating a function that will get the average word length for each of the policies. "
   ]
  },
  {
   "cell_type": "code",
   "execution_count": 26,
   "metadata": {},
   "outputs": [
    {
     "data": {
      "text/html": [
       "<div>\n",
       "<style scoped>\n",
       "    .dataframe tbody tr th:only-of-type {\n",
       "        vertical-align: middle;\n",
       "    }\n",
       "\n",
       "    .dataframe tbody tr th {\n",
       "        vertical-align: top;\n",
       "    }\n",
       "\n",
       "    .dataframe thead th {\n",
       "        text-align: right;\n",
       "    }\n",
       "</style>\n",
       "<table border=\"1\" class=\"dataframe\">\n",
       "  <thead>\n",
       "    <tr style=\"text-align: right;\">\n",
       "      <th></th>\n",
       "      <th>filename</th>\n",
       "      <th>websites</th>\n",
       "      <th>titles</th>\n",
       "      <th>content</th>\n",
       "      <th>tokens</th>\n",
       "      <th>length</th>\n",
       "      <th>lencat</th>\n",
       "      <th>avg_wlen</th>\n",
       "    </tr>\n",
       "  </thead>\n",
       "  <tbody>\n",
       "    <tr>\n",
       "      <td>0</td>\n",
       "      <td>theatlantic.txt</td>\n",
       "      <td>theatlantic.com</td>\n",
       "      <td>The Atlantic</td>\n",
       "      <td>Privacy Policy Effective January 1, 2015 At th...</td>\n",
       "      <td>[privacy, policy, effective, january, 1, 2015,...</td>\n",
       "      <td>3296</td>\n",
       "      <td>3000-3499</td>\n",
       "      <td>5.194639</td>\n",
       "    </tr>\n",
       "    <tr>\n",
       "      <td>1</td>\n",
       "      <td>imdb.txt</td>\n",
       "      <td>imdb.com</td>\n",
       "      <td>IMDB</td>\n",
       "      <td>IMDb Privacy Notice Last Updated, December 5, ...</td>\n",
       "      <td>[imdb, privacy, notice, last, updated, decembe...</td>\n",
       "      <td>1987</td>\n",
       "      <td>1500-1999</td>\n",
       "      <td>5.025265</td>\n",
       "    </tr>\n",
       "    <tr>\n",
       "      <td>2</td>\n",
       "      <td>nytimes.txt</td>\n",
       "      <td>nytimes.com</td>\n",
       "      <td>The New York Times</td>\n",
       "      <td>Privacy Policy Last Updated on June 10, 2015 T...</td>\n",
       "      <td>[privacy, policy, last, updated, on, june, 10,...</td>\n",
       "      <td>3691</td>\n",
       "      <td>3500-3999</td>\n",
       "      <td>4.970267</td>\n",
       "    </tr>\n",
       "    <tr>\n",
       "      <td>3</td>\n",
       "      <td>voxmedia.txt</td>\n",
       "      <td>voxmedia.com</td>\n",
       "      <td>Vox</td>\n",
       "      <td>Vox Media Privacy Policy Updated as of May 201...</td>\n",
       "      <td>[vox, media, privacy, policy, updated, as, of,...</td>\n",
       "      <td>2412</td>\n",
       "      <td>2000-2499</td>\n",
       "      <td>4.962948</td>\n",
       "    </tr>\n",
       "    <tr>\n",
       "      <td>4</td>\n",
       "      <td>nbcuniversal.txt</td>\n",
       "      <td>nbcuniversal.com</td>\n",
       "      <td>NBC Universal Media</td>\n",
       "      <td>Full Privacy Policy Last updated 14 January 20...</td>\n",
       "      <td>[full, privacy, policy, last, updated, 14, jan...</td>\n",
       "      <td>4128</td>\n",
       "      <td>4000-4499</td>\n",
       "      <td>5.190243</td>\n",
       "    </tr>\n",
       "    <tr>\n",
       "      <td>...</td>\n",
       "      <td>...</td>\n",
       "      <td>...</td>\n",
       "      <td>...</td>\n",
       "      <td>...</td>\n",
       "      <td>...</td>\n",
       "      <td>...</td>\n",
       "      <td>...</td>\n",
       "      <td>...</td>\n",
       "    </tr>\n",
       "    <tr>\n",
       "      <td>108</td>\n",
       "      <td>dailynews.txt</td>\n",
       "      <td>dailynews.com</td>\n",
       "      <td>Los Angeles Daily News</td>\n",
       "      <td>PRIVACY POLICY This policy describes the priva...</td>\n",
       "      <td>[privacy, policy, this, policy, describes, the...</td>\n",
       "      <td>3306</td>\n",
       "      <td>3000-3499</td>\n",
       "      <td>5.231544</td>\n",
       "    </tr>\n",
       "    <tr>\n",
       "      <td>109</td>\n",
       "      <td>lids.txt</td>\n",
       "      <td>lids.com</td>\n",
       "      <td>Lids</td>\n",
       "      <td>Privacy Policy Last updated August 26, 2014 Ou...</td>\n",
       "      <td>[privacy, policy, last, updated, august, 26, 2...</td>\n",
       "      <td>2329</td>\n",
       "      <td>2000-2499</td>\n",
       "      <td>4.905644</td>\n",
       "    </tr>\n",
       "    <tr>\n",
       "      <td>110</td>\n",
       "      <td>sports-reference.txt</td>\n",
       "      <td>sports-reference.com</td>\n",
       "      <td>Sports Reference</td>\n",
       "      <td>SPORTS REFERENCE LLC - Privacy Statement A com...</td>\n",
       "      <td>[sports, reference, llc, privacy, statement, a...</td>\n",
       "      <td>1673</td>\n",
       "      <td>1500-1999</td>\n",
       "      <td>5.135480</td>\n",
       "    </tr>\n",
       "    <tr>\n",
       "      <td>111</td>\n",
       "      <td>foxsports.txt</td>\n",
       "      <td>foxsports.com</td>\n",
       "      <td>Fox Sports Insider</td>\n",
       "      <td>Privacy Policy Effective Date June 11, 2015 1....</td>\n",
       "      <td>[privacy, policy, effective, date, june, 11, 2...</td>\n",
       "      <td>3063</td>\n",
       "      <td>3000-3499</td>\n",
       "      <td>5.114754</td>\n",
       "    </tr>\n",
       "    <tr>\n",
       "      <td>112</td>\n",
       "      <td>latinpost.txt</td>\n",
       "      <td>latinpost.com</td>\n",
       "      <td>Latin Post</td>\n",
       "      <td>Privacy Policy Last Modified March 25, 2013 Th...</td>\n",
       "      <td>[privacy, policy, last, modified, march, 25, 2...</td>\n",
       "      <td>7147</td>\n",
       "      <td>7000-7999</td>\n",
       "      <td>5.161213</td>\n",
       "    </tr>\n",
       "  </tbody>\n",
       "</table>\n",
       "<p>113 rows × 8 columns</p>\n",
       "</div>"
      ],
      "text/plain": [
       "                 filename              websites                  titles  \\\n",
       "0         theatlantic.txt       theatlantic.com            The Atlantic   \n",
       "1                imdb.txt              imdb.com                    IMDB   \n",
       "2             nytimes.txt           nytimes.com      The New York Times   \n",
       "3            voxmedia.txt          voxmedia.com                     Vox   \n",
       "4        nbcuniversal.txt      nbcuniversal.com     NBC Universal Media   \n",
       "..                    ...                   ...                     ...   \n",
       "108         dailynews.txt         dailynews.com  Los Angeles Daily News   \n",
       "109              lids.txt              lids.com                    Lids   \n",
       "110  sports-reference.txt  sports-reference.com        Sports Reference   \n",
       "111         foxsports.txt         foxsports.com      Fox Sports Insider   \n",
       "112         latinpost.txt         latinpost.com              Latin Post   \n",
       "\n",
       "                                               content  \\\n",
       "0    Privacy Policy Effective January 1, 2015 At th...   \n",
       "1    IMDb Privacy Notice Last Updated, December 5, ...   \n",
       "2    Privacy Policy Last Updated on June 10, 2015 T...   \n",
       "3    Vox Media Privacy Policy Updated as of May 201...   \n",
       "4    Full Privacy Policy Last updated 14 January 20...   \n",
       "..                                                 ...   \n",
       "108  PRIVACY POLICY This policy describes the priva...   \n",
       "109  Privacy Policy Last updated August 26, 2014 Ou...   \n",
       "110  SPORTS REFERENCE LLC - Privacy Statement A com...   \n",
       "111  Privacy Policy Effective Date June 11, 2015 1....   \n",
       "112  Privacy Policy Last Modified March 25, 2013 Th...   \n",
       "\n",
       "                                                tokens length     lencat  \\\n",
       "0    [privacy, policy, effective, january, 1, 2015,...   3296  3000-3499   \n",
       "1    [imdb, privacy, notice, last, updated, decembe...   1987  1500-1999   \n",
       "2    [privacy, policy, last, updated, on, june, 10,...   3691  3500-3999   \n",
       "3    [vox, media, privacy, policy, updated, as, of,...   2412  2000-2499   \n",
       "4    [full, privacy, policy, last, updated, 14, jan...   4128  4000-4499   \n",
       "..                                                 ...    ...        ...   \n",
       "108  [privacy, policy, this, policy, describes, the...   3306  3000-3499   \n",
       "109  [privacy, policy, last, updated, august, 26, 2...   2329  2000-2499   \n",
       "110  [sports, reference, llc, privacy, statement, a...   1673  1500-1999   \n",
       "111  [privacy, policy, effective, date, june, 11, 2...   3063  3000-3499   \n",
       "112  [privacy, policy, last, modified, march, 25, 2...   7147  7000-7999   \n",
       "\n",
       "     avg_wlen  \n",
       "0    5.194639  \n",
       "1    5.025265  \n",
       "2    4.970267  \n",
       "3    4.962948  \n",
       "4    5.190243  \n",
       "..        ...  \n",
       "108  5.231544  \n",
       "109  4.905644  \n",
       "110  5.135480  \n",
       "111  5.114754  \n",
       "112  5.161213  \n",
       "\n",
       "[113 rows x 8 columns]"
      ]
     },
     "execution_count": 26,
     "metadata": {},
     "output_type": "execute_result"
    }
   ],
   "source": [
    "def wordlen(t): # function to get word lengths; \n",
    "    lengths = [len(w) for w in t if w.isalpha()]\n",
    "    return np.mean(lengths)\n",
    "\n",
    "data['avg_wlen'] = data['tokens'].apply(wordlen)\n",
    "data"
   ]
  },
  {
   "cell_type": "markdown",
   "metadata": {},
   "source": [
    "Alright, just from what we see here, the average of the average word lengths is around five characters, no matter the length. Let's double check that, though. "
   ]
  },
  {
   "cell_type": "code",
   "execution_count": 27,
   "metadata": {},
   "outputs": [
    {
     "data": {
      "text/plain": [
       "5.699754901960785"
      ]
     },
     "execution_count": 27,
     "metadata": {},
     "output_type": "execute_result"
    }
   ],
   "source": [
    "data['avg_wlen'].max()"
   ]
  },
  {
   "cell_type": "code",
   "execution_count": 28,
   "metadata": {},
   "outputs": [
    {
     "data": {
      "text/plain": [
       "4.66852886405959"
      ]
     },
     "execution_count": 28,
     "metadata": {},
     "output_type": "execute_result"
    }
   ],
   "source": [
    "data['avg_wlen'].min()"
   ]
  },
  {
   "cell_type": "markdown",
   "metadata": {},
   "source": [
    "Okay, so there is a difference between the largest average word length and the smallest average word length, even if it is just by a character. Let's look at where these policies are from and check out their word counts. "
   ]
  },
  {
   "cell_type": "code",
   "execution_count": 29,
   "metadata": {},
   "outputs": [
    {
     "data": {
      "text/plain": [
       "'Dallas County Community College District'"
      ]
     },
     "execution_count": 29,
     "metadata": {},
     "output_type": "execute_result"
    }
   ],
   "source": [
    "data['titles'][pd.Index(data['avg_wlen']).get_loc(data['avg_wlen'].max())]"
   ]
  },
  {
   "cell_type": "code",
   "execution_count": 30,
   "metadata": {},
   "outputs": [
    {
     "data": {
      "text/plain": [
       "820"
      ]
     },
     "execution_count": 30,
     "metadata": {},
     "output_type": "execute_result"
    }
   ],
   "source": [
    "data['length'][pd.Index(data['avg_wlen']).get_loc(data['avg_wlen'].max())]"
   ]
  },
  {
   "cell_type": "markdown",
   "metadata": {},
   "source": [
    "This is a short policy... let's read it:"
   ]
  },
  {
   "cell_type": "code",
   "execution_count": 31,
   "metadata": {
    "scrolled": false
   },
   "outputs": [
    {
     "data": {
      "text/plain": [
       "'Privacy and Security Commitment Our Promise to You Dallas County Community College District\\'s (DCCCD) Privacy Commitment is based on two principles. We promise to Comply with all the applicable local, state and federal laws and regulations; and Protect your privacy while still offering relevant, personalized service. DCCCD is a public higher education institution and therefore bound by the Texas Public Information Act and the Family Education Rights and Privacy Act (FERPA). Continue reading for more detailed information about DCCCD\\'s Privacy and Security Commitment. Texas Public Information Act The Texas Public Information Act requires disclosure of information by a public body -- unless the law specifically protects the information. Most information kept by a public body is public under the Act. The State Attorney General enforces this Act. Family Education Rights and Privacy Act of 1974 (FERPA) FERPA protects educational records of a student from public disclosure without written permission of the student. Although many exceptions to the Act exist, the exceptions are very limited. The Department of Education enforces this Act. Directory Information Unless you request that your information be withheld, to comply with FERPA, DCCCD may release information classified as \"directory information\" to the general public without the written consent of the student. Directory information includes name; home address; home telephone number; email addresses; field of study; photograph; dates of attendance; enrollment status, i.e., full-time, part-time, undergraduate, graduate; degrees, certificates and other honors and awards received; the type of award received, i.e., academic, technical, tech-prep, or continuing education; participation in officially recognized activities; weight and height of members of athletic teams; student classification; name of the most recent previous institution attended How to request that your directory information be withheld A student may request that the institution withhold from the public all or any part of the student\\'s directory information. To request withholding of this information, a student shall give written notice (in person, by mail or fax) to the Registrar\\'s Office during the first 12 class days of a Fall or Spring semester or the first four class days of a Summer session. If they are unable to provide written notice within these time frames, credit students may protect their directory information at any time during the academic year through eConnect\\'s \\'My Privacy\\' feature. If a request to withhold information is not made, the institution shall release all directory information. Directory information is released only upon written request unless permitted by law. Telephone requests are not acceptable. Transcripts or academic records are not released without a student\\'s written consent except as allowed by law. Information collected by DCCCD DCCCD\\'s Web servers only record the visitor\\'s Internet Protocol (IP) address. We also use Google\\'s services (Google Analytics, Google\\'s Display Advertising, Google Display Network Impression Reporting, the DoubleClick Campaign Manager Integration, and Google Analytics Demographics and Interest Reporting) to record and review additional information about our users to improve our user experience and services. You can review the information Google has about you in Google\\'s Ads Settings and opt-out of the tracking at https //tools.google.com/dlpage/gaoptout. Cookies and how they are used We use cookies to Store visitors\\' preferences; Record session information; Record user-specific information on what pages visitors visit; Customize webpage content on visitors\\' browser type or other information that the visitor sends; Show DCCCD ads to people who have previously visited our website. How to view your information Currently enrolled (or recently enrolled) credit students who are registered at one of DCCCD\\'s nine locations can obtain access to their personal information through eConnect, a secure web interface that requires you to enter your student identification number and a password. The following information is available to registered students Class schedule information Email address Financial Aid information Grades Payment information Student ID number Student Information Profile Registration summary/fee receipts that contain Address Class schedule information Student ID number How to update/correct your student record Currently enrolled (or recently enrolled students) credit students can correct their Student Information Profile and email address online through eConnect. If any of the remaining personal information in your student record contains an error, please visit the Registrar\\'s Office and request that the error be corrected. Make sure you take a photo identification card with you. Dallas TeleCollege students should visit the Dallas TeleCollege Registrar\\'s Contact Us website. Security DCCCD has carefully implemented the information technology industry\\'s best practices in security measures to ensure that 1) the information you entrust to us is not intercepted or abused; and 2) to protect against the loss, misuse and alteration of the information under our control. Industry standard technologies like Secure Socket Layers (SSL) are used to protect your credit card information, email address, social security number and other information so it cannot be read as it travels on the Internet. Verisign, the leading provider of digital trust services, provides secure payment processing for your online transactions with DCCCD\\'s eConnect. For Verisign\\'s security information please visit their website at http //www.verisign.com/truste. Please send comments or questions to DCCCD\\'s Director of Internet Publishing.'"
      ]
     },
     "execution_count": 31,
     "metadata": {},
     "output_type": "execute_result"
    }
   ],
   "source": [
    "data['content'][pd.Index(data['avg_wlen']).get_loc(data['avg_wlen'].max())]"
   ]
  },
  {
   "cell_type": "markdown",
   "metadata": {},
   "source": [
    "This is a pretty spot-on privacy policy. There's little legalese and while it is daunting to look at in one big blob of text like this, it's very probable that with appropriate headings and spaces, it's easy to read. It's under 1000 words, it reports on what services it uses with PII (Google Analytics, etc.), it references specific laws, and is very clear under what circumstances PII is released. This goes to show that average word length isn't really that good of a metric to measure whether a privacy policy is readable or not. However, as I mentioned before, it can be combined with other metrics to make a more informed argument.  \n",
    "  \n",
    "I'm still curious as to what the minimum average word length's policy looks like. "
   ]
  },
  {
   "cell_type": "code",
   "execution_count": 32,
   "metadata": {},
   "outputs": [
    {
     "data": {
      "text/plain": [
       "'Sci News'"
      ]
     },
     "execution_count": 32,
     "metadata": {},
     "output_type": "execute_result"
    }
   ],
   "source": [
    "data['titles'][pd.Index(data['avg_wlen']).get_loc(data['avg_wlen'].min())]"
   ]
  },
  {
   "cell_type": "code",
   "execution_count": 33,
   "metadata": {},
   "outputs": [
    {
     "data": {
      "text/plain": [
       "539"
      ]
     },
     "execution_count": 33,
     "metadata": {},
     "output_type": "execute_result"
    }
   ],
   "source": [
    "data['length'][pd.Index(data['avg_wlen']).get_loc(data['avg_wlen'].min())]"
   ]
  },
  {
   "cell_type": "markdown",
   "metadata": {},
   "source": [
    "Another, even shorter one! Since it's short (less than 1000 words), we can look at it like we did with the Dallas County Community College District privacy policy above. "
   ]
  },
  {
   "cell_type": "code",
   "execution_count": 34,
   "metadata": {},
   "outputs": [
    {
     "data": {
      "text/plain": [
       "'Privacy Policy Sci-News.com is committed to protecting and respecting your privacy. To better inform you of our policy concerning user privacy, we have adopted the following terms. Please note that these terms are subject to change, and any such changes will be included on this page. Information that Sci-News.com May Collect Online Sci-News.com may collect and process the following data about you - information that you provide by filling in forms on our site, including names, e-mail and website addresses; we may also ask you for information for other purposes, for example when you report a problem with our site; - if you contact us, we may keep a record of that correspondence; - details of your visits to our site including, but not limited to, traffic data, location data, weblogs and other communication data. Sci-News.com does not knowingly collect or solicit personal information from anyone under the age of 13. We assume that minors 13 years of age or older have received permission from their parents or guardians before using this website. Parents or guardians may contact us at privacy@sci-news.com with questions or concerns about our privacy policy. Use of Cookies Sci-News.com uses cookie technology. A cookie is a small amount of data, which often includes a unique identifier that is sent to your computer or mobile phone browser from a websites computer and is stored on your devices hard drive. A website can send its own cookie to your browser if your browsers preferences allow it, but your browser only permits a website to access the cookies it has already sent to you, not the cookies sent to you by other websites. Many websites do this whenever a user visits their website in order to track online traffic flows. During the course of any visit to the Sci-News.com website, the pages you see, along with a cookie, are downloaded to your device. A website does this because cookies enable a publisher to find out whether the device has visited the website before. This is done on a repeat visit by checking to see, and finding, the cookie left there on the last visit. Please note that during or after your visits to the Sci-News.com website you may notice some cookies that are not related to it. Sci-News.com does not control the dissemination of these cookies. You must check the third party websites for more information about these. You may refuse to accept cookies by activating the setting on your browser which allows you to refuse the setting of cookies. However, if you select this setting you may be unable to access certain parts of the site. Disclosure of Your Information Sci-News.com does not sell, trade or rent your personal information to third parties. If we choose to do so in the future, you will be notified by email of our intentions, and have the right to be removed prior to the disclosure. Your Consent and Rights By using Sci-News.com, you consent to the collection and use, in accordance with this policy, of the information you provide to us. We will remove you and your personally identifiable information from our records on request if you contact us with your request at privacy@sci-news.com. Contact Us If you have any inquiries about this Privacy Policy or its implementation, you may contact us at privacy@sci-news.com.'"
      ]
     },
     "execution_count": 34,
     "metadata": {},
     "output_type": "execute_result"
    }
   ],
   "source": [
    "data['content'][pd.Index(data['avg_wlen']).get_loc(data['avg_wlen'].min())]"
   ]
  },
  {
   "cell_type": "markdown",
   "metadata": {},
   "source": [
    "This is another great policy. It clearly states what it defines as PII, and even defines a cookie to those who might not be as Internet-literate. This definition and explanation of cookies is especially important to ensure that people know what they're signing up for. It even specifies that PII will be removed upon request if a user wishes to do so and instructs readers on how to do it.\n",
    "  \n",
    "  \n",
    "While DCCCD's policy is a bit longer, there is more PII that a community college may collect on its students. School websites have the justification to do this, so it makes sense that more regulations are outlined in DCCCD. Both privacy policies that I've looked at do all of the things a privacy policy should: keep it short and human-readable, but still outline the policy in a thorough way so users won't be left guessing over how much of their information is collected by the website. This thoroughness is what the Tanger Outlets policy lacks. It tells us about how PII is not shared with third parties, but does not specify anything about what PII exactly it collects. \n",
    "  \n",
    "  \n",
    "To conclude this section, though: average word length should *not* be the only metric used in determining whether a privacy policy is readable to the average Internet user. Both the policies with the longest and shortest average word length were perfectly readable and accomplished everything a privacy policy should. This doesn't mean this section was completely useless, however. As I've mentioned before, this metric can be a supplement for other metrics. That said, let's move on. \n",
    "\n",
    "## Type-Token Ratio\n",
    "The final metric that I'll be looking at is type-token ratio (TTR). TTR is a measure of lexical density, or word uniqueness. It takes the number of unique words and divides that number by the number of total words in a given string. A high TTR in this case could be an indication of lots of legalese being used. I will begin here by defining a function, much like the functions I've defined above, that gets the TTR for all of these policies. "
   ]
  },
  {
   "cell_type": "code",
   "execution_count": 35,
   "metadata": {},
   "outputs": [],
   "source": [
    "def get_ttr(tokens):\n",
    "    lower = [w.lower() for w in tokens]\n",
    "    return len(set(lower))/len(lower)"
   ]
  },
  {
   "cell_type": "code",
   "execution_count": 36,
   "metadata": {},
   "outputs": [
    {
     "data": {
      "text/html": [
       "<div>\n",
       "<style scoped>\n",
       "    .dataframe tbody tr th:only-of-type {\n",
       "        vertical-align: middle;\n",
       "    }\n",
       "\n",
       "    .dataframe tbody tr th {\n",
       "        vertical-align: top;\n",
       "    }\n",
       "\n",
       "    .dataframe thead th {\n",
       "        text-align: right;\n",
       "    }\n",
       "</style>\n",
       "<table border=\"1\" class=\"dataframe\">\n",
       "  <thead>\n",
       "    <tr style=\"text-align: right;\">\n",
       "      <th></th>\n",
       "      <th>filename</th>\n",
       "      <th>websites</th>\n",
       "      <th>titles</th>\n",
       "      <th>content</th>\n",
       "      <th>tokens</th>\n",
       "      <th>length</th>\n",
       "      <th>lencat</th>\n",
       "      <th>avg_wlen</th>\n",
       "      <th>TTR</th>\n",
       "    </tr>\n",
       "  </thead>\n",
       "  <tbody>\n",
       "    <tr>\n",
       "      <td>0</td>\n",
       "      <td>theatlantic.txt</td>\n",
       "      <td>theatlantic.com</td>\n",
       "      <td>The Atlantic</td>\n",
       "      <td>Privacy Policy Effective January 1, 2015 At th...</td>\n",
       "      <td>[privacy, policy, effective, january, 1, 2015,...</td>\n",
       "      <td>3296</td>\n",
       "      <td>3000-3499</td>\n",
       "      <td>5.194639</td>\n",
       "      <td>0.216019</td>\n",
       "    </tr>\n",
       "    <tr>\n",
       "      <td>1</td>\n",
       "      <td>imdb.txt</td>\n",
       "      <td>imdb.com</td>\n",
       "      <td>IMDB</td>\n",
       "      <td>IMDb Privacy Notice Last Updated, December 5, ...</td>\n",
       "      <td>[imdb, privacy, notice, last, updated, decembe...</td>\n",
       "      <td>1987</td>\n",
       "      <td>1500-1999</td>\n",
       "      <td>5.025265</td>\n",
       "      <td>0.262708</td>\n",
       "    </tr>\n",
       "    <tr>\n",
       "      <td>2</td>\n",
       "      <td>nytimes.txt</td>\n",
       "      <td>nytimes.com</td>\n",
       "      <td>The New York Times</td>\n",
       "      <td>Privacy Policy Last Updated on June 10, 2015 T...</td>\n",
       "      <td>[privacy, policy, last, updated, on, june, 10,...</td>\n",
       "      <td>3691</td>\n",
       "      <td>3500-3999</td>\n",
       "      <td>4.970267</td>\n",
       "      <td>0.209428</td>\n",
       "    </tr>\n",
       "    <tr>\n",
       "      <td>3</td>\n",
       "      <td>voxmedia.txt</td>\n",
       "      <td>voxmedia.com</td>\n",
       "      <td>Vox</td>\n",
       "      <td>Vox Media Privacy Policy Updated as of May 201...</td>\n",
       "      <td>[vox, media, privacy, policy, updated, as, of,...</td>\n",
       "      <td>2412</td>\n",
       "      <td>2000-2499</td>\n",
       "      <td>4.962948</td>\n",
       "      <td>0.245854</td>\n",
       "    </tr>\n",
       "    <tr>\n",
       "      <td>4</td>\n",
       "      <td>nbcuniversal.txt</td>\n",
       "      <td>nbcuniversal.com</td>\n",
       "      <td>NBC Universal Media</td>\n",
       "      <td>Full Privacy Policy Last updated 14 January 20...</td>\n",
       "      <td>[full, privacy, policy, last, updated, 14, jan...</td>\n",
       "      <td>4128</td>\n",
       "      <td>4000-4499</td>\n",
       "      <td>5.190243</td>\n",
       "      <td>0.187016</td>\n",
       "    </tr>\n",
       "    <tr>\n",
       "      <td>...</td>\n",
       "      <td>...</td>\n",
       "      <td>...</td>\n",
       "      <td>...</td>\n",
       "      <td>...</td>\n",
       "      <td>...</td>\n",
       "      <td>...</td>\n",
       "      <td>...</td>\n",
       "      <td>...</td>\n",
       "      <td>...</td>\n",
       "    </tr>\n",
       "    <tr>\n",
       "      <td>108</td>\n",
       "      <td>dailynews.txt</td>\n",
       "      <td>dailynews.com</td>\n",
       "      <td>Los Angeles Daily News</td>\n",
       "      <td>PRIVACY POLICY This policy describes the priva...</td>\n",
       "      <td>[privacy, policy, this, policy, describes, the...</td>\n",
       "      <td>3306</td>\n",
       "      <td>3000-3499</td>\n",
       "      <td>5.231544</td>\n",
       "      <td>0.201149</td>\n",
       "    </tr>\n",
       "    <tr>\n",
       "      <td>109</td>\n",
       "      <td>lids.txt</td>\n",
       "      <td>lids.com</td>\n",
       "      <td>Lids</td>\n",
       "      <td>Privacy Policy Last updated August 26, 2014 Ou...</td>\n",
       "      <td>[privacy, policy, last, updated, august, 26, 2...</td>\n",
       "      <td>2329</td>\n",
       "      <td>2000-2499</td>\n",
       "      <td>4.905644</td>\n",
       "      <td>0.259768</td>\n",
       "    </tr>\n",
       "    <tr>\n",
       "      <td>110</td>\n",
       "      <td>sports-reference.txt</td>\n",
       "      <td>sports-reference.com</td>\n",
       "      <td>Sports Reference</td>\n",
       "      <td>SPORTS REFERENCE LLC - Privacy Statement A com...</td>\n",
       "      <td>[sports, reference, llc, privacy, statement, a...</td>\n",
       "      <td>1673</td>\n",
       "      <td>1500-1999</td>\n",
       "      <td>5.135480</td>\n",
       "      <td>0.300060</td>\n",
       "    </tr>\n",
       "    <tr>\n",
       "      <td>111</td>\n",
       "      <td>foxsports.txt</td>\n",
       "      <td>foxsports.com</td>\n",
       "      <td>Fox Sports Insider</td>\n",
       "      <td>Privacy Policy Effective Date June 11, 2015 1....</td>\n",
       "      <td>[privacy, policy, effective, date, june, 11, 2...</td>\n",
       "      <td>3063</td>\n",
       "      <td>3000-3499</td>\n",
       "      <td>5.114754</td>\n",
       "      <td>0.214822</td>\n",
       "    </tr>\n",
       "    <tr>\n",
       "      <td>112</td>\n",
       "      <td>latinpost.txt</td>\n",
       "      <td>latinpost.com</td>\n",
       "      <td>Latin Post</td>\n",
       "      <td>Privacy Policy Last Modified March 25, 2013 Th...</td>\n",
       "      <td>[privacy, policy, last, modified, march, 25, 2...</td>\n",
       "      <td>7147</td>\n",
       "      <td>7000-7999</td>\n",
       "      <td>5.161213</td>\n",
       "      <td>0.145516</td>\n",
       "    </tr>\n",
       "  </tbody>\n",
       "</table>\n",
       "<p>113 rows × 9 columns</p>\n",
       "</div>"
      ],
      "text/plain": [
       "                 filename              websites                  titles  \\\n",
       "0         theatlantic.txt       theatlantic.com            The Atlantic   \n",
       "1                imdb.txt              imdb.com                    IMDB   \n",
       "2             nytimes.txt           nytimes.com      The New York Times   \n",
       "3            voxmedia.txt          voxmedia.com                     Vox   \n",
       "4        nbcuniversal.txt      nbcuniversal.com     NBC Universal Media   \n",
       "..                    ...                   ...                     ...   \n",
       "108         dailynews.txt         dailynews.com  Los Angeles Daily News   \n",
       "109              lids.txt              lids.com                    Lids   \n",
       "110  sports-reference.txt  sports-reference.com        Sports Reference   \n",
       "111         foxsports.txt         foxsports.com      Fox Sports Insider   \n",
       "112         latinpost.txt         latinpost.com              Latin Post   \n",
       "\n",
       "                                               content  \\\n",
       "0    Privacy Policy Effective January 1, 2015 At th...   \n",
       "1    IMDb Privacy Notice Last Updated, December 5, ...   \n",
       "2    Privacy Policy Last Updated on June 10, 2015 T...   \n",
       "3    Vox Media Privacy Policy Updated as of May 201...   \n",
       "4    Full Privacy Policy Last updated 14 January 20...   \n",
       "..                                                 ...   \n",
       "108  PRIVACY POLICY This policy describes the priva...   \n",
       "109  Privacy Policy Last updated August 26, 2014 Ou...   \n",
       "110  SPORTS REFERENCE LLC - Privacy Statement A com...   \n",
       "111  Privacy Policy Effective Date June 11, 2015 1....   \n",
       "112  Privacy Policy Last Modified March 25, 2013 Th...   \n",
       "\n",
       "                                                tokens length     lencat  \\\n",
       "0    [privacy, policy, effective, january, 1, 2015,...   3296  3000-3499   \n",
       "1    [imdb, privacy, notice, last, updated, decembe...   1987  1500-1999   \n",
       "2    [privacy, policy, last, updated, on, june, 10,...   3691  3500-3999   \n",
       "3    [vox, media, privacy, policy, updated, as, of,...   2412  2000-2499   \n",
       "4    [full, privacy, policy, last, updated, 14, jan...   4128  4000-4499   \n",
       "..                                                 ...    ...        ...   \n",
       "108  [privacy, policy, this, policy, describes, the...   3306  3000-3499   \n",
       "109  [privacy, policy, last, updated, august, 26, 2...   2329  2000-2499   \n",
       "110  [sports, reference, llc, privacy, statement, a...   1673  1500-1999   \n",
       "111  [privacy, policy, effective, date, june, 11, 2...   3063  3000-3499   \n",
       "112  [privacy, policy, last, modified, march, 25, 2...   7147  7000-7999   \n",
       "\n",
       "     avg_wlen       TTR  \n",
       "0    5.194639  0.216019  \n",
       "1    5.025265  0.262708  \n",
       "2    4.970267  0.209428  \n",
       "3    4.962948  0.245854  \n",
       "4    5.190243  0.187016  \n",
       "..        ...       ...  \n",
       "108  5.231544  0.201149  \n",
       "109  4.905644  0.259768  \n",
       "110  5.135480  0.300060  \n",
       "111  5.114754  0.214822  \n",
       "112  5.161213  0.145516  \n",
       "\n",
       "[113 rows x 9 columns]"
      ]
     },
     "execution_count": 36,
     "metadata": {},
     "output_type": "execute_result"
    }
   ],
   "source": [
    "data['TTR'] = data.tokens.map(get_ttr)\n",
    "data"
   ]
  },
  {
   "cell_type": "markdown",
   "metadata": {},
   "source": [
    "We're already seeing some interesting things here. Despite Latin Post having an incredibly long word count, it has an incredibly low TTR. "
   ]
  },
  {
   "cell_type": "code",
   "execution_count": null,
   "metadata": {},
   "outputs": [],
   "source": []
  }
 ],
 "metadata": {
  "kernelspec": {
   "display_name": "Python 3",
   "language": "python",
   "name": "python3"
  },
  "language_info": {
   "codemirror_mode": {
    "name": "ipython",
    "version": 3
   },
   "file_extension": ".py",
   "mimetype": "text/x-python",
   "name": "python",
   "nbconvert_exporter": "python",
   "pygments_lexer": "ipython3",
   "version": "3.7.4"
  }
 },
 "nbformat": 4,
 "nbformat_minor": 2
}
